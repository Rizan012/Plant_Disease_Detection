{
 "cells": [
  {
   "cell_type": "code",
   "execution_count": 1,
   "id": "c6c34d9e-bdbb-4aa1-ad63-9bb100c1b92d",
   "metadata": {},
   "outputs": [],
   "source": [
    "import pandas as pd\n",
    "import os\n",
    "import numpy as np"
   ]
  },
  {
   "cell_type": "code",
   "execution_count": 2,
   "id": "4f7bf807-ab7e-4a11-a769-8690ec5486e1",
   "metadata": {},
   "outputs": [],
   "source": [
    "root = r\"D:\\Evolve\\Project_Plant\\Plant_Disease_Detection\\NewCsv\""
   ]
  },
  {
   "cell_type": "code",
   "execution_count": 3,
   "id": "ab65bd55-083a-4905-ae07-9a88a24c6181",
   "metadata": {},
   "outputs": [],
   "source": [
    "csv_path = os.listdir(root)"
   ]
  },
  {
   "cell_type": "code",
   "execution_count": 4,
   "id": "5a24dce8-ad77-4db1-83e8-5c5bde070484",
   "metadata": {},
   "outputs": [
    {
     "data": {
      "text/plain": [
       "['Maize fall armyworm_imgdf.csv',\n",
       " 'Maize grasshoper_imgdf.csv',\n",
       " 'Maize healthy_imgdf.csv',\n",
       " 'Maize leaf beetle_imgdf.csv',\n",
       " 'Maize leaf blight_imgdf.csv',\n",
       " 'Maize leaf spot_imgdf.csv',\n",
       " 'Maize streak virus_imgdf.csv',\n",
       " 'Tomato healthy_imgdf.csv',\n",
       " 'Tomato leaf blight_imgdf.csv',\n",
       " 'Tomato leaf curl_imgdf.csv',\n",
       " 'Tomato septoria leaf spot_imgdf.csv',\n",
       " 'Tomato verticulium wilt_imgdf.csv']"
      ]
     },
     "execution_count": 4,
     "metadata": {},
     "output_type": "execute_result"
    }
   ],
   "source": [
    "csv_path"
   ]
  },
  {
   "cell_type": "code",
   "execution_count": 11,
   "id": "d151412f-d7cf-488e-83c2-52c35b4e8b08",
   "metadata": {},
   "outputs": [],
   "source": [
    "disease_list = [csv.split(\".csv\")[0] for csv in csv_path]"
   ]
  },
  {
   "cell_type": "code",
   "execution_count": 12,
   "id": "1d4094ab-d5bb-4e58-9aef-364289024621",
   "metadata": {},
   "outputs": [
    {
     "data": {
      "text/plain": [
       "['Maize fall armyworm_imgdf',\n",
       " 'Maize grasshoper_imgdf',\n",
       " 'Maize healthy_imgdf',\n",
       " 'Maize leaf beetle_imgdf',\n",
       " 'Maize leaf blight_imgdf',\n",
       " 'Maize leaf spot_imgdf',\n",
       " 'Maize streak virus_imgdf',\n",
       " 'Tomato healthy_imgdf',\n",
       " 'Tomato leaf blight_imgdf',\n",
       " 'Tomato leaf curl_imgdf',\n",
       " 'Tomato septoria leaf spot_imgdf',\n",
       " 'Tomato verticulium wilt_imgdf']"
      ]
     },
     "execution_count": 12,
     "metadata": {},
     "output_type": "execute_result"
    }
   ],
   "source": [
    "disease_list"
   ]
  },
  {
   "cell_type": "code",
   "execution_count": 5,
   "id": "4d9e6881-156e-4b71-b565-f671028c2e40",
   "metadata": {},
   "outputs": [],
   "source": [
    "csv_path_list = [os.path.join(root,csv) for csv in csv_path ]"
   ]
  },
  {
   "cell_type": "code",
   "execution_count": 6,
   "id": "8bdd27b7-d811-4c76-a309-b072e4110628",
   "metadata": {},
   "outputs": [
    {
     "data": {
      "text/plain": [
       "['D:\\\\Evolve\\\\Project_Plant\\\\Plant_Disease_Detection\\\\NewCsv\\\\Maize fall armyworm_imgdf.csv',\n",
       " 'D:\\\\Evolve\\\\Project_Plant\\\\Plant_Disease_Detection\\\\NewCsv\\\\Maize grasshoper_imgdf.csv',\n",
       " 'D:\\\\Evolve\\\\Project_Plant\\\\Plant_Disease_Detection\\\\NewCsv\\\\Maize healthy_imgdf.csv',\n",
       " 'D:\\\\Evolve\\\\Project_Plant\\\\Plant_Disease_Detection\\\\NewCsv\\\\Maize leaf beetle_imgdf.csv',\n",
       " 'D:\\\\Evolve\\\\Project_Plant\\\\Plant_Disease_Detection\\\\NewCsv\\\\Maize leaf blight_imgdf.csv',\n",
       " 'D:\\\\Evolve\\\\Project_Plant\\\\Plant_Disease_Detection\\\\NewCsv\\\\Maize leaf spot_imgdf.csv',\n",
       " 'D:\\\\Evolve\\\\Project_Plant\\\\Plant_Disease_Detection\\\\NewCsv\\\\Maize streak virus_imgdf.csv',\n",
       " 'D:\\\\Evolve\\\\Project_Plant\\\\Plant_Disease_Detection\\\\NewCsv\\\\Tomato healthy_imgdf.csv',\n",
       " 'D:\\\\Evolve\\\\Project_Plant\\\\Plant_Disease_Detection\\\\NewCsv\\\\Tomato leaf blight_imgdf.csv',\n",
       " 'D:\\\\Evolve\\\\Project_Plant\\\\Plant_Disease_Detection\\\\NewCsv\\\\Tomato leaf curl_imgdf.csv',\n",
       " 'D:\\\\Evolve\\\\Project_Plant\\\\Plant_Disease_Detection\\\\NewCsv\\\\Tomato septoria leaf spot_imgdf.csv',\n",
       " 'D:\\\\Evolve\\\\Project_Plant\\\\Plant_Disease_Detection\\\\NewCsv\\\\Tomato verticulium wilt_imgdf.csv']"
      ]
     },
     "execution_count": 6,
     "metadata": {},
     "output_type": "execute_result"
    }
   ],
   "source": [
    "csv_path_list"
   ]
  },
  {
   "cell_type": "code",
   "execution_count": 7,
   "id": "5b0ef38e-7820-4e54-8734-00d20b34f7c9",
   "metadata": {},
   "outputs": [],
   "source": [
    "df_shapes = []"
   ]
  },
  {
   "cell_type": "code",
   "execution_count": 8,
   "id": "36fc313a-167f-4b77-9614-c162f3ded0f7",
   "metadata": {},
   "outputs": [],
   "source": [
    "for csvpath in csv_path_list:\n",
    "    df = pd.read_csv(rf\"{csvpath}\")\n",
    "    df_shapes.append(df.shape[0])"
   ]
  },
  {
   "cell_type": "code",
   "execution_count": 9,
   "id": "2e54fe8c-1d04-4653-9f4c-adbfa1a26fbc",
   "metadata": {},
   "outputs": [],
   "source": [
    "max_row = max(df_shapes)"
   ]
  },
  {
   "cell_type": "code",
   "execution_count": 13,
   "id": "d3c29ec8-4e25-42b0-a20e-9a675ed40ce2",
   "metadata": {},
   "outputs": [
    {
     "data": {
      "text/plain": [
       "2743"
      ]
     },
     "execution_count": 13,
     "metadata": {},
     "output_type": "execute_result"
    }
   ],
   "source": [
    "max_row"
   ]
  },
  {
   "cell_type": "code",
   "execution_count": 18,
   "id": "3bf7e91b-b9c0-4478-8a60-b12b02250797",
   "metadata": {},
   "outputs": [],
   "source": [
    "j=0\n",
    "for csvpath in csv_path_list:\n",
    "    finaldf = pd.DataFrame()\n",
    "    df = pd.read_csv(rf\"{csvpath}\")\n",
    "    df.drop(\"Unnamed: 0\",axis = 1,inplace = True)\n",
    "    \n",
    "    row = df.shape[0]\n",
    "    \n",
    "    multiplier = (max_row // row) + (1 if max_row % row != 0 else 0)\n",
    "\n",
    "    for i in range(0,multiplier):\n",
    "        finaldf = pd.concat([finaldf,df],ignore_index=True)\n",
    "\n",
    "    finaldf = finaldf.iloc[:2743]\n",
    "    filename_without_ext = os.path.splitext(disease_list[j])[0]  \n",
    "    finaldf.to_csv(f\"balanced_{filename_without_ext}.csv\", index=False)\n",
    "    j+=1              "
   ]
  },
  {
   "cell_type": "code",
   "execution_count": 51,
   "id": "4c254fef-53d6-4ffe-9bc9-34587d1caecd",
   "metadata": {},
   "outputs": [
    {
     "data": {
      "text/plain": [
       "'D:\\\\Evolve\\\\Project_Plant\\\\Plant_Disease_Detection'"
      ]
     },
     "execution_count": 51,
     "metadata": {},
     "output_type": "execute_result"
    }
   ],
   "source": [
    "ro = root.rstrip(\"\\\\NewCsv\")\n",
    "ro"
   ]
  },
  {
   "cell_type": "code",
   "execution_count": 52,
   "id": "06950208-bb0b-454a-91f3-a1d8ac25497d",
   "metadata": {},
   "outputs": [],
   "source": [
    "balanced_list = [i for i in os.listdir(ro) if i.startswith(\"balanced\")]"
   ]
  },
  {
   "cell_type": "code",
   "execution_count": 53,
   "id": "de448221-23d9-44c6-bfa8-ff2614af8c52",
   "metadata": {},
   "outputs": [
    {
     "data": {
      "text/plain": [
       "['balanced_Maize fall armyworm_imgdf.csv',\n",
       " 'balanced_Maize grasshoper_imgdf.csv',\n",
       " 'balanced_Maize healthy_imgdf.csv',\n",
       " 'balanced_Maize leaf beetle_imgdf.csv',\n",
       " 'balanced_Maize leaf blight_imgdf.csv',\n",
       " 'balanced_Maize leaf spot_imgdf.csv',\n",
       " 'balanced_Maize streak virus_imgdf.csv',\n",
       " 'balanced_Tomato healthy_imgdf.csv',\n",
       " 'balanced_Tomato leaf blight_imgdf.csv',\n",
       " 'balanced_Tomato leaf curl_imgdf.csv',\n",
       " 'balanced_Tomato septoria leaf spot_imgdf.csv',\n",
       " 'balanced_Tomato verticulium wilt_imgdf.csv']"
      ]
     },
     "execution_count": 53,
     "metadata": {},
     "output_type": "execute_result"
    }
   ],
   "source": [
    "balanced_list"
   ]
  },
  {
   "cell_type": "code",
   "execution_count": 55,
   "id": "f8bd5e89-0172-4c72-a8e0-4a18fac2de23",
   "metadata": {},
   "outputs": [],
   "source": [
    "final = pd.DataFrame()\n",
    "for csv in balanced_list:\n",
    "    df = pd.read_csv(rf\"{csv}\")\n",
    "    final = pd.concat([final,df])"
   ]
  },
  {
   "cell_type": "code",
   "execution_count": 56,
   "id": "a7e220aa-1012-4cc2-99a6-1ccc59390b0c",
   "metadata": {},
   "outputs": [
    {
     "data": {
      "text/html": [
       "<div>\n",
       "<style scoped>\n",
       "    .dataframe tbody tr th:only-of-type {\n",
       "        vertical-align: middle;\n",
       "    }\n",
       "\n",
       "    .dataframe tbody tr th {\n",
       "        vertical-align: top;\n",
       "    }\n",
       "\n",
       "    .dataframe thead th {\n",
       "        text-align: right;\n",
       "    }\n",
       "</style>\n",
       "<table border=\"1\" class=\"dataframe\">\n",
       "  <thead>\n",
       "    <tr style=\"text-align: right;\">\n",
       "      <th></th>\n",
       "      <th>0</th>\n",
       "      <th>1</th>\n",
       "      <th>2</th>\n",
       "      <th>3</th>\n",
       "      <th>4</th>\n",
       "      <th>5</th>\n",
       "      <th>6</th>\n",
       "      <th>7</th>\n",
       "      <th>8</th>\n",
       "      <th>9</th>\n",
       "      <th>...</th>\n",
       "      <th>6391</th>\n",
       "      <th>6392</th>\n",
       "      <th>6393</th>\n",
       "      <th>6394</th>\n",
       "      <th>6395</th>\n",
       "      <th>6396</th>\n",
       "      <th>6397</th>\n",
       "      <th>6398</th>\n",
       "      <th>6399</th>\n",
       "      <th>label</th>\n",
       "    </tr>\n",
       "  </thead>\n",
       "  <tbody>\n",
       "    <tr>\n",
       "      <th>0</th>\n",
       "      <td>182.0</td>\n",
       "      <td>181.0</td>\n",
       "      <td>184.0</td>\n",
       "      <td>189.0</td>\n",
       "      <td>193.0</td>\n",
       "      <td>189.0</td>\n",
       "      <td>177.0</td>\n",
       "      <td>174.0</td>\n",
       "      <td>167.0</td>\n",
       "      <td>155.0</td>\n",
       "      <td>...</td>\n",
       "      <td>117.0</td>\n",
       "      <td>110.0</td>\n",
       "      <td>91.0</td>\n",
       "      <td>78.0</td>\n",
       "      <td>77.0</td>\n",
       "      <td>66.0</td>\n",
       "      <td>64.0</td>\n",
       "      <td>80.0</td>\n",
       "      <td>97.0</td>\n",
       "      <td>Maize fall armyworm</td>\n",
       "    </tr>\n",
       "    <tr>\n",
       "      <th>1</th>\n",
       "      <td>182.0</td>\n",
       "      <td>181.0</td>\n",
       "      <td>181.0</td>\n",
       "      <td>183.0</td>\n",
       "      <td>184.0</td>\n",
       "      <td>188.0</td>\n",
       "      <td>190.0</td>\n",
       "      <td>193.0</td>\n",
       "      <td>193.0</td>\n",
       "      <td>185.0</td>\n",
       "      <td>...</td>\n",
       "      <td>99.0</td>\n",
       "      <td>100.0</td>\n",
       "      <td>93.0</td>\n",
       "      <td>97.0</td>\n",
       "      <td>101.0</td>\n",
       "      <td>104.0</td>\n",
       "      <td>99.0</td>\n",
       "      <td>97.0</td>\n",
       "      <td>90.0</td>\n",
       "      <td>Maize fall armyworm</td>\n",
       "    </tr>\n",
       "    <tr>\n",
       "      <th>2</th>\n",
       "      <td>113.0</td>\n",
       "      <td>112.0</td>\n",
       "      <td>108.0</td>\n",
       "      <td>98.0</td>\n",
       "      <td>88.0</td>\n",
       "      <td>95.0</td>\n",
       "      <td>106.0</td>\n",
       "      <td>119.0</td>\n",
       "      <td>132.0</td>\n",
       "      <td>147.0</td>\n",
       "      <td>...</td>\n",
       "      <td>139.0</td>\n",
       "      <td>132.0</td>\n",
       "      <td>129.0</td>\n",
       "      <td>129.0</td>\n",
       "      <td>125.0</td>\n",
       "      <td>121.0</td>\n",
       "      <td>115.0</td>\n",
       "      <td>110.0</td>\n",
       "      <td>111.0</td>\n",
       "      <td>Maize fall armyworm</td>\n",
       "    </tr>\n",
       "    <tr>\n",
       "      <th>3</th>\n",
       "      <td>119.0</td>\n",
       "      <td>118.0</td>\n",
       "      <td>115.0</td>\n",
       "      <td>111.0</td>\n",
       "      <td>111.0</td>\n",
       "      <td>111.0</td>\n",
       "      <td>110.0</td>\n",
       "      <td>110.0</td>\n",
       "      <td>111.0</td>\n",
       "      <td>111.0</td>\n",
       "      <td>...</td>\n",
       "      <td>69.0</td>\n",
       "      <td>64.0</td>\n",
       "      <td>49.0</td>\n",
       "      <td>32.0</td>\n",
       "      <td>23.0</td>\n",
       "      <td>28.0</td>\n",
       "      <td>41.0</td>\n",
       "      <td>53.0</td>\n",
       "      <td>62.0</td>\n",
       "      <td>Maize fall armyworm</td>\n",
       "    </tr>\n",
       "    <tr>\n",
       "      <th>4</th>\n",
       "      <td>77.0</td>\n",
       "      <td>81.0</td>\n",
       "      <td>88.0</td>\n",
       "      <td>87.0</td>\n",
       "      <td>90.0</td>\n",
       "      <td>94.0</td>\n",
       "      <td>71.0</td>\n",
       "      <td>56.0</td>\n",
       "      <td>59.0</td>\n",
       "      <td>48.0</td>\n",
       "      <td>...</td>\n",
       "      <td>70.0</td>\n",
       "      <td>67.0</td>\n",
       "      <td>71.0</td>\n",
       "      <td>74.0</td>\n",
       "      <td>75.0</td>\n",
       "      <td>65.0</td>\n",
       "      <td>44.0</td>\n",
       "      <td>36.0</td>\n",
       "      <td>41.0</td>\n",
       "      <td>Maize fall armyworm</td>\n",
       "    </tr>\n",
       "    <tr>\n",
       "      <th>...</th>\n",
       "      <td>...</td>\n",
       "      <td>...</td>\n",
       "      <td>...</td>\n",
       "      <td>...</td>\n",
       "      <td>...</td>\n",
       "      <td>...</td>\n",
       "      <td>...</td>\n",
       "      <td>...</td>\n",
       "      <td>...</td>\n",
       "      <td>...</td>\n",
       "      <td>...</td>\n",
       "      <td>...</td>\n",
       "      <td>...</td>\n",
       "      <td>...</td>\n",
       "      <td>...</td>\n",
       "      <td>...</td>\n",
       "      <td>...</td>\n",
       "      <td>...</td>\n",
       "      <td>...</td>\n",
       "      <td>...</td>\n",
       "      <td>...</td>\n",
       "    </tr>\n",
       "    <tr>\n",
       "      <th>2738</th>\n",
       "      <td>179.0</td>\n",
       "      <td>182.0</td>\n",
       "      <td>184.0</td>\n",
       "      <td>179.0</td>\n",
       "      <td>181.0</td>\n",
       "      <td>178.0</td>\n",
       "      <td>182.0</td>\n",
       "      <td>185.0</td>\n",
       "      <td>183.0</td>\n",
       "      <td>179.0</td>\n",
       "      <td>...</td>\n",
       "      <td>171.0</td>\n",
       "      <td>172.0</td>\n",
       "      <td>173.0</td>\n",
       "      <td>175.0</td>\n",
       "      <td>176.0</td>\n",
       "      <td>174.0</td>\n",
       "      <td>177.0</td>\n",
       "      <td>177.0</td>\n",
       "      <td>177.0</td>\n",
       "      <td>Tomato verticulium wilt</td>\n",
       "    </tr>\n",
       "    <tr>\n",
       "      <th>2739</th>\n",
       "      <td>188.0</td>\n",
       "      <td>188.0</td>\n",
       "      <td>190.0</td>\n",
       "      <td>189.0</td>\n",
       "      <td>190.0</td>\n",
       "      <td>189.0</td>\n",
       "      <td>194.0</td>\n",
       "      <td>191.0</td>\n",
       "      <td>187.0</td>\n",
       "      <td>188.0</td>\n",
       "      <td>...</td>\n",
       "      <td>197.0</td>\n",
       "      <td>198.0</td>\n",
       "      <td>199.0</td>\n",
       "      <td>198.0</td>\n",
       "      <td>199.0</td>\n",
       "      <td>200.0</td>\n",
       "      <td>200.0</td>\n",
       "      <td>200.0</td>\n",
       "      <td>201.0</td>\n",
       "      <td>Tomato verticulium wilt</td>\n",
       "    </tr>\n",
       "    <tr>\n",
       "      <th>2740</th>\n",
       "      <td>175.0</td>\n",
       "      <td>174.0</td>\n",
       "      <td>173.0</td>\n",
       "      <td>172.0</td>\n",
       "      <td>170.0</td>\n",
       "      <td>168.0</td>\n",
       "      <td>165.0</td>\n",
       "      <td>161.0</td>\n",
       "      <td>146.0</td>\n",
       "      <td>56.0</td>\n",
       "      <td>...</td>\n",
       "      <td>178.0</td>\n",
       "      <td>177.0</td>\n",
       "      <td>178.0</td>\n",
       "      <td>179.0</td>\n",
       "      <td>178.0</td>\n",
       "      <td>182.0</td>\n",
       "      <td>183.0</td>\n",
       "      <td>182.0</td>\n",
       "      <td>184.0</td>\n",
       "      <td>Tomato verticulium wilt</td>\n",
       "    </tr>\n",
       "    <tr>\n",
       "      <th>2741</th>\n",
       "      <td>175.0</td>\n",
       "      <td>172.0</td>\n",
       "      <td>175.0</td>\n",
       "      <td>176.0</td>\n",
       "      <td>179.0</td>\n",
       "      <td>182.0</td>\n",
       "      <td>173.0</td>\n",
       "      <td>174.0</td>\n",
       "      <td>175.0</td>\n",
       "      <td>180.0</td>\n",
       "      <td>...</td>\n",
       "      <td>188.0</td>\n",
       "      <td>188.0</td>\n",
       "      <td>189.0</td>\n",
       "      <td>186.0</td>\n",
       "      <td>189.0</td>\n",
       "      <td>190.0</td>\n",
       "      <td>188.0</td>\n",
       "      <td>188.0</td>\n",
       "      <td>189.0</td>\n",
       "      <td>Tomato verticulium wilt</td>\n",
       "    </tr>\n",
       "    <tr>\n",
       "      <th>2742</th>\n",
       "      <td>221.0</td>\n",
       "      <td>220.0</td>\n",
       "      <td>221.0</td>\n",
       "      <td>221.0</td>\n",
       "      <td>222.0</td>\n",
       "      <td>219.0</td>\n",
       "      <td>221.0</td>\n",
       "      <td>222.0</td>\n",
       "      <td>221.0</td>\n",
       "      <td>223.0</td>\n",
       "      <td>...</td>\n",
       "      <td>218.0</td>\n",
       "      <td>219.0</td>\n",
       "      <td>218.0</td>\n",
       "      <td>219.0</td>\n",
       "      <td>219.0</td>\n",
       "      <td>219.0</td>\n",
       "      <td>220.0</td>\n",
       "      <td>218.0</td>\n",
       "      <td>220.0</td>\n",
       "      <td>Tomato verticulium wilt</td>\n",
       "    </tr>\n",
       "  </tbody>\n",
       "</table>\n",
       "<p>32916 rows × 6401 columns</p>\n",
       "</div>"
      ],
      "text/plain": [
       "          0      1      2      3      4      5      6      7      8      9  \\\n",
       "0     182.0  181.0  184.0  189.0  193.0  189.0  177.0  174.0  167.0  155.0   \n",
       "1     182.0  181.0  181.0  183.0  184.0  188.0  190.0  193.0  193.0  185.0   \n",
       "2     113.0  112.0  108.0   98.0   88.0   95.0  106.0  119.0  132.0  147.0   \n",
       "3     119.0  118.0  115.0  111.0  111.0  111.0  110.0  110.0  111.0  111.0   \n",
       "4      77.0   81.0   88.0   87.0   90.0   94.0   71.0   56.0   59.0   48.0   \n",
       "...     ...    ...    ...    ...    ...    ...    ...    ...    ...    ...   \n",
       "2738  179.0  182.0  184.0  179.0  181.0  178.0  182.0  185.0  183.0  179.0   \n",
       "2739  188.0  188.0  190.0  189.0  190.0  189.0  194.0  191.0  187.0  188.0   \n",
       "2740  175.0  174.0  173.0  172.0  170.0  168.0  165.0  161.0  146.0   56.0   \n",
       "2741  175.0  172.0  175.0  176.0  179.0  182.0  173.0  174.0  175.0  180.0   \n",
       "2742  221.0  220.0  221.0  221.0  222.0  219.0  221.0  222.0  221.0  223.0   \n",
       "\n",
       "      ...   6391   6392   6393   6394   6395   6396   6397   6398   6399  \\\n",
       "0     ...  117.0  110.0   91.0   78.0   77.0   66.0   64.0   80.0   97.0   \n",
       "1     ...   99.0  100.0   93.0   97.0  101.0  104.0   99.0   97.0   90.0   \n",
       "2     ...  139.0  132.0  129.0  129.0  125.0  121.0  115.0  110.0  111.0   \n",
       "3     ...   69.0   64.0   49.0   32.0   23.0   28.0   41.0   53.0   62.0   \n",
       "4     ...   70.0   67.0   71.0   74.0   75.0   65.0   44.0   36.0   41.0   \n",
       "...   ...    ...    ...    ...    ...    ...    ...    ...    ...    ...   \n",
       "2738  ...  171.0  172.0  173.0  175.0  176.0  174.0  177.0  177.0  177.0   \n",
       "2739  ...  197.0  198.0  199.0  198.0  199.0  200.0  200.0  200.0  201.0   \n",
       "2740  ...  178.0  177.0  178.0  179.0  178.0  182.0  183.0  182.0  184.0   \n",
       "2741  ...  188.0  188.0  189.0  186.0  189.0  190.0  188.0  188.0  189.0   \n",
       "2742  ...  218.0  219.0  218.0  219.0  219.0  219.0  220.0  218.0  220.0   \n",
       "\n",
       "                        label  \n",
       "0         Maize fall armyworm  \n",
       "1         Maize fall armyworm  \n",
       "2         Maize fall armyworm  \n",
       "3         Maize fall armyworm  \n",
       "4         Maize fall armyworm  \n",
       "...                       ...  \n",
       "2738  Tomato verticulium wilt  \n",
       "2739  Tomato verticulium wilt  \n",
       "2740  Tomato verticulium wilt  \n",
       "2741  Tomato verticulium wilt  \n",
       "2742  Tomato verticulium wilt  \n",
       "\n",
       "[32916 rows x 6401 columns]"
      ]
     },
     "execution_count": 56,
     "metadata": {},
     "output_type": "execute_result"
    }
   ],
   "source": [
    "final"
   ]
  },
  {
   "cell_type": "code",
   "execution_count": 57,
   "id": "95a289d6-6094-4f0b-8f63-5cb689b01dc9",
   "metadata": {},
   "outputs": [],
   "source": [
    "final.to_csv(\"final_balanced.csv\",index=False)"
   ]
  },
  {
   "cell_type": "code",
   "execution_count": null,
   "id": "015a7f1e-e8fa-4991-b941-8a53fc8ab99a",
   "metadata": {},
   "outputs": [],
   "source": []
  }
 ],
 "metadata": {
  "kernelspec": {
   "display_name": "Python (venv)",
   "language": "python",
   "name": "venv"
  },
  "language_info": {
   "codemirror_mode": {
    "name": "ipython",
    "version": 3
   },
   "file_extension": ".py",
   "mimetype": "text/x-python",
   "name": "python",
   "nbconvert_exporter": "python",
   "pygments_lexer": "ipython3",
   "version": "3.11.9"
  }
 },
 "nbformat": 4,
 "nbformat_minor": 5
}
