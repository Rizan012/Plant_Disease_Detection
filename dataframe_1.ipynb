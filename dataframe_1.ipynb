{
 "cells": [
  {
   "cell_type": "code",
   "execution_count": 5,
   "id": "2a510978-3f2f-48d0-83cf-a75df077f39a",
   "metadata": {},
   "outputs": [],
   "source": [
    "import pandas as pd\n",
    "import cv2 as cv\n",
    "import numpy as np\n",
    "import matplotlib.pyplot as plt\n",
    "import seaborn as sns\n",
    "import os"
   ]
  },
  {
   "cell_type": "code",
   "execution_count": 8,
   "id": "9c948a48-4c32-483d-99e2-0c21e2202531",
   "metadata": {},
   "outputs": [],
   "source": [
    "root = r\"D:\\Evolve\\Project_Plant\\Plant_Disease_Detection\\Datasets\""
   ]
  },
  {
   "cell_type": "code",
   "execution_count": 9,
   "id": "b293ed0f-7829-4e18-9090-7b8ee217f61e",
   "metadata": {},
   "outputs": [
    {
     "data": {
      "text/plain": [
       "'D:\\\\Evolve\\\\Project_Plant\\\\Plant_Disease_Detection\\\\Datasets'"
      ]
     },
     "execution_count": 9,
     "metadata": {},
     "output_type": "execute_result"
    }
   ],
   "source": [
    "root"
   ]
  },
  {
   "cell_type": "code",
   "execution_count": 10,
   "id": "2e2f49e6-d7e7-4499-b7f0-cdf17ddc924b",
   "metadata": {},
   "outputs": [],
   "source": [
    "disease_list = os.listdir(root)"
   ]
  },
  {
   "cell_type": "code",
   "execution_count": 11,
   "id": "f52e0b00-b49e-44d9-b00f-26d350e5b902",
   "metadata": {},
   "outputs": [
    {
     "data": {
      "text/plain": [
       "['Cashew anthracnose',\n",
       " 'Cashew gumosis',\n",
       " 'Cashew healthy',\n",
       " 'Cashew leaf miner',\n",
       " 'Cashew red rust',\n",
       " 'Cassava bacterial blight',\n",
       " 'Cassava brown spot',\n",
       " 'Cassava green mite',\n",
       " 'Cassava healthy',\n",
       " 'Cassava mosaic',\n",
       " 'Maize fall armyworm',\n",
       " 'Maize grasshoper',\n",
       " 'Maize healthy',\n",
       " 'Maize leaf beetle',\n",
       " 'Maize leaf blight',\n",
       " 'Maize leaf spot',\n",
       " 'Maize streak virus',\n",
       " 'Tomato healthy',\n",
       " 'Tomato leaf blight',\n",
       " 'Tomato leaf curl',\n",
       " 'Tomato septoria leaf spot',\n",
       " 'Tomato verticulium wilt']"
      ]
     },
     "execution_count": 11,
     "metadata": {},
     "output_type": "execute_result"
    }
   ],
   "source": [
    "disease_list"
   ]
  },
  {
   "cell_type": "code",
   "execution_count": 13,
   "id": "2630100b-2a9c-4464-a998-2473032434ca",
   "metadata": {},
   "outputs": [],
   "source": [
    "disease_list = [disease for disease in disease_list if disease.startswith((\"M\",\"T\"))]"
   ]
  },
  {
   "cell_type": "code",
   "execution_count": 14,
   "id": "a7eee161-8c24-4b89-8d40-1b1acf34c6e5",
   "metadata": {},
   "outputs": [
    {
     "data": {
      "text/plain": [
       "['Maize fall armyworm',\n",
       " 'Maize grasshoper',\n",
       " 'Maize healthy',\n",
       " 'Maize leaf beetle',\n",
       " 'Maize leaf blight',\n",
       " 'Maize leaf spot',\n",
       " 'Maize streak virus',\n",
       " 'Tomato healthy',\n",
       " 'Tomato leaf blight',\n",
       " 'Tomato leaf curl',\n",
       " 'Tomato septoria leaf spot',\n",
       " 'Tomato verticulium wilt']"
      ]
     },
     "execution_count": 14,
     "metadata": {},
     "output_type": "execute_result"
    }
   ],
   "source": [
    "disease_list"
   ]
  },
  {
   "cell_type": "code",
   "execution_count": 15,
   "id": "6d7e63ad-f244-464c-b185-94a7dddd3b4d",
   "metadata": {},
   "outputs": [],
   "source": [
    "def img_df_convert(ipth):\n",
    "    ret_df = pd.DataFrame()\n",
    "    try:\n",
    "        img = cv.imread(ipth, cv.IMREAD_GRAYSCALE) \n",
    "        \n",
    "        if img is not None:\n",
    "            img_resize = cv.resize(img, (80, 80))  \n",
    "            img_array = img_resize.flatten()  \n",
    "            img_df = pd.DataFrame([img_array])\n",
    "            ret_df = pd.concat([ret_df,img_df])         \n",
    "        return img_df\n",
    "\n",
    "    except Exception as e:\n",
    "        print(f\"Error: {e} occurred while processing {ipth}\")\n",
    "        return pd.DataFrame()  \n"
   ]
  },
  {
   "cell_type": "code",
   "execution_count": 18,
   "id": "9d62e9cb-f05b-49f3-9e1d-bf53285a73c0",
   "metadata": {},
   "outputs": [
    {
     "name": "stdout",
     "output_type": "stream",
     "text": [
      "Error: cannot access local variable 'img_df' where it is not associated with a value occurred while processing D:\\Evolve\\Project_Plant\\Plant_Disease_Detection\\Datasets\\Maize healthy\\healthy18_.jpg\n",
      "Error: cannot access local variable 'img_df' where it is not associated with a value occurred while processing D:\\Evolve\\Project_Plant\\Plant_Disease_Detection\\Datasets\\Maize healthy\\healthy88_.jpg\n",
      "Error: cannot access local variable 'img_df' where it is not associated with a value occurred while processing D:\\Evolve\\Project_Plant\\Plant_Disease_Detection\\Datasets\\Maize leaf beetle\\leaf beetle207_.jpg\n",
      "Error: cannot access local variable 'img_df' where it is not associated with a value occurred while processing D:\\Evolve\\Project_Plant\\Plant_Disease_Detection\\Datasets\\Maize leaf beetle\\leaf beetle208_.jpg\n",
      "Error: cannot access local variable 'img_df' where it is not associated with a value occurred while processing D:\\Evolve\\Project_Plant\\Plant_Disease_Detection\\Datasets\\Maize leaf beetle\\leaf beetle326_.jpg\n",
      "Error: cannot access local variable 'img_df' where it is not associated with a value occurred while processing D:\\Evolve\\Project_Plant\\Plant_Disease_Detection\\Datasets\\Maize leaf beetle\\leaf beetle458_.jpg\n",
      "Error: cannot access local variable 'img_df' where it is not associated with a value occurred while processing D:\\Evolve\\Project_Plant\\Plant_Disease_Detection\\Datasets\\Maize leaf beetle\\leaf beetle573_.jpg\n",
      "Error: cannot access local variable 'img_df' where it is not associated with a value occurred while processing D:\\Evolve\\Project_Plant\\Plant_Disease_Detection\\Datasets\\Maize leaf beetle\\leaf beetle690_.jpg\n",
      "Error: cannot access local variable 'img_df' where it is not associated with a value occurred while processing D:\\Evolve\\Project_Plant\\Plant_Disease_Detection\\Datasets\\Maize leaf beetle\\leaf beetle691_.jpg\n",
      "Error: cannot access local variable 'img_df' where it is not associated with a value occurred while processing D:\\Evolve\\Project_Plant\\Plant_Disease_Detection\\Datasets\\Maize leaf beetle\\leaf beetle798_.jpg\n",
      "Error: cannot access local variable 'img_df' where it is not associated with a value occurred while processing D:\\Evolve\\Project_Plant\\Plant_Disease_Detection\\Datasets\\Maize leaf beetle\\leaf beetle90_.jpg\n",
      "Error: cannot access local variable 'img_df' where it is not associated with a value occurred while processing D:\\Evolve\\Project_Plant\\Plant_Disease_Detection\\Datasets\\Maize leaf beetle\\leaf beetle910_.jpg\n",
      "Error: cannot access local variable 'img_df' where it is not associated with a value occurred while processing D:\\Evolve\\Project_Plant\\Plant_Disease_Detection\\Datasets\\Maize leaf blight\\leaf blight37_.jpg\n",
      "Error: cannot access local variable 'img_df' where it is not associated with a value occurred while processing D:\\Evolve\\Project_Plant\\Plant_Disease_Detection\\Datasets\\Maize leaf blight\\leaf blight453_.jpg\n",
      "Error: cannot access local variable 'img_df' where it is not associated with a value occurred while processing D:\\Evolve\\Project_Plant\\Plant_Disease_Detection\\Datasets\\Maize leaf blight\\leaf blight590_.jpg\n",
      "Error: cannot access local variable 'img_df' where it is not associated with a value occurred while processing D:\\Evolve\\Project_Plant\\Plant_Disease_Detection\\Datasets\\Maize leaf blight\\leaf blight667_.jpg\n",
      "Error: cannot access local variable 'img_df' where it is not associated with a value occurred while processing D:\\Evolve\\Project_Plant\\Plant_Disease_Detection\\Datasets\\Maize leaf blight\\leaf blight746_.jpg\n",
      "Error: cannot access local variable 'img_df' where it is not associated with a value occurred while processing D:\\Evolve\\Project_Plant\\Plant_Disease_Detection\\Datasets\\Maize leaf blight\\leaf blight830_.jpg\n",
      "Error: cannot access local variable 'img_df' where it is not associated with a value occurred while processing D:\\Evolve\\Project_Plant\\Plant_Disease_Detection\\Datasets\\Maize leaf blight\\leaf blight913_.jpg\n",
      "Error: cannot access local variable 'img_df' where it is not associated with a value occurred while processing D:\\Evolve\\Project_Plant\\Plant_Disease_Detection\\Datasets\\Maize leaf blight\\leaf blight98_.jpg\n",
      "Error: cannot access local variable 'img_df' where it is not associated with a value occurred while processing D:\\Evolve\\Project_Plant\\Plant_Disease_Detection\\Datasets\\Maize leaf spot\\leaf spot187_.jpg\n",
      "Error: cannot access local variable 'img_df' where it is not associated with a value occurred while processing D:\\Evolve\\Project_Plant\\Plant_Disease_Detection\\Datasets\\Maize leaf spot\\leaf spot272_.jpg\n",
      "Error: cannot access local variable 'img_df' where it is not associated with a value occurred while processing D:\\Evolve\\Project_Plant\\Plant_Disease_Detection\\Datasets\\Maize leaf spot\\leaf spot353_.jpg\n",
      "Error: cannot access local variable 'img_df' where it is not associated with a value occurred while processing D:\\Evolve\\Project_Plant\\Plant_Disease_Detection\\Datasets\\Maize leaf spot\\leaf spot425_.jpg\n",
      "Error: cannot access local variable 'img_df' where it is not associated with a value occurred while processing D:\\Evolve\\Project_Plant\\Plant_Disease_Detection\\Datasets\\Maize leaf spot\\leaf spot497_.jpg\n",
      "Error: cannot access local variable 'img_df' where it is not associated with a value occurred while processing D:\\Evolve\\Project_Plant\\Plant_Disease_Detection\\Datasets\\Maize leaf spot\\leaf spot64_.jpg\n",
      "Error: cannot access local variable 'img_df' where it is not associated with a value occurred while processing D:\\Evolve\\Project_Plant\\Plant_Disease_Detection\\Datasets\\Maize leaf spot\\leaf spot724_.jpg\n",
      "Error: cannot access local variable 'img_df' where it is not associated with a value occurred while processing D:\\Evolve\\Project_Plant\\Plant_Disease_Detection\\Datasets\\Maize leaf spot\\leaf spot799_.jpg\n",
      "Error: cannot access local variable 'img_df' where it is not associated with a value occurred while processing D:\\Evolve\\Project_Plant\\Plant_Disease_Detection\\Datasets\\Maize leaf spot\\leaf spot882_.jpg\n",
      "Error: cannot access local variable 'img_df' where it is not associated with a value occurred while processing D:\\Evolve\\Project_Plant\\Plant_Disease_Detection\\Datasets\\Maize leaf spot\\leaf spot958_.jpg\n",
      "Error: cannot access local variable 'img_df' where it is not associated with a value occurred while processing D:\\Evolve\\Project_Plant\\Plant_Disease_Detection\\Datasets\\Maize streak virus\\streak virus119_.jpg\n",
      "Error: cannot access local variable 'img_df' where it is not associated with a value occurred while processing D:\\Evolve\\Project_Plant\\Plant_Disease_Detection\\Datasets\\Maize streak virus\\streak virus422_.jpg\n",
      "Error: cannot access local variable 'img_df' where it is not associated with a value occurred while processing D:\\Evolve\\Project_Plant\\Plant_Disease_Detection\\Datasets\\Maize streak virus\\streak virus486_.jpg\n",
      "Error: cannot access local variable 'img_df' where it is not associated with a value occurred while processing D:\\Evolve\\Project_Plant\\Plant_Disease_Detection\\Datasets\\Maize streak virus\\streak virus627_.jpg\n",
      "Error: cannot access local variable 'img_df' where it is not associated with a value occurred while processing D:\\Evolve\\Project_Plant\\Plant_Disease_Detection\\Datasets\\Maize streak virus\\streak virus701_.jpg\n",
      "Error: cannot access local variable 'img_df' where it is not associated with a value occurred while processing D:\\Evolve\\Project_Plant\\Plant_Disease_Detection\\Datasets\\Maize streak virus\\streak virus774_.jpg\n",
      "Error: cannot access local variable 'img_df' where it is not associated with a value occurred while processing D:\\Evolve\\Project_Plant\\Plant_Disease_Detection\\Datasets\\Maize streak virus\\streak virus998_.jpg\n",
      "Error: cannot access local variable 'img_df' where it is not associated with a value occurred while processing D:\\Evolve\\Project_Plant\\Plant_Disease_Detection\\Datasets\\Tomato healthy\\healthy443_.jpg\n",
      "Error: cannot access local variable 'img_df' where it is not associated with a value occurred while processing D:\\Evolve\\Project_Plant\\Plant_Disease_Detection\\Datasets\\Tomato healthy\\healthy77_.jpg\n",
      "Error: cannot access local variable 'img_df' where it is not associated with a value occurred while processing D:\\Evolve\\Project_Plant\\Plant_Disease_Detection\\Datasets\\Tomato leaf blight\\leaf blight1232_.jpg\n",
      "Error: cannot access local variable 'img_df' where it is not associated with a value occurred while processing D:\\Evolve\\Project_Plant\\Plant_Disease_Detection\\Datasets\\Tomato leaf blight\\leaf blight471_.jpg\n",
      "Error: cannot access local variable 'img_df' where it is not associated with a value occurred while processing D:\\Evolve\\Project_Plant\\Plant_Disease_Detection\\Datasets\\Tomato leaf blight\\leaf blight558_.jpg\n",
      "Error: cannot access local variable 'img_df' where it is not associated with a value occurred while processing D:\\Evolve\\Project_Plant\\Plant_Disease_Detection\\Datasets\\Tomato leaf blight\\leaf blight645_.jpg\n",
      "Error: cannot access local variable 'img_df' where it is not associated with a value occurred while processing D:\\Evolve\\Project_Plant\\Plant_Disease_Detection\\Datasets\\Tomato leaf blight\\leaf blight72_.jpg\n",
      "Error: cannot access local variable 'img_df' where it is not associated with a value occurred while processing D:\\Evolve\\Project_Plant\\Plant_Disease_Detection\\Datasets\\Tomato leaf blight\\leaf blight814_.jpg\n",
      "Error: cannot access local variable 'img_df' where it is not associated with a value occurred while processing D:\\Evolve\\Project_Plant\\Plant_Disease_Detection\\Datasets\\Tomato leaf blight\\leaf blight998_.jpg\n",
      "Error: cannot access local variable 'img_df' where it is not associated with a value occurred while processing D:\\Evolve\\Project_Plant\\Plant_Disease_Detection\\Datasets\\Tomato leaf curl\\leaf curl186_.jpg\n",
      "Error: cannot access local variable 'img_df' where it is not associated with a value occurred while processing D:\\Evolve\\Project_Plant\\Plant_Disease_Detection\\Datasets\\Tomato leaf curl\\leaf curl271_.jpg\n",
      "Error: cannot access local variable 'img_df' where it is not associated with a value occurred while processing D:\\Evolve\\Project_Plant\\Plant_Disease_Detection\\Datasets\\Tomato leaf curl\\leaf curl354_.jpg\n",
      "Error: cannot access local variable 'img_df' where it is not associated with a value occurred while processing D:\\Evolve\\Project_Plant\\Plant_Disease_Detection\\Datasets\\Tomato leaf curl\\leaf curl43_.jpg\n"
     ]
    }
   ],
   "source": [
    "for disease in disease_list:\n",
    "    df_re = pd.DataFrame()\n",
    "    disease_path = os.path.join(root,disease)\n",
    "    imgs_list = os.listdir(disease_path)\n",
    "    imgs_path = [os.path.join(disease_path,img) for img in imgs_list]\n",
    "\n",
    "    for ipth in imgs_path:\n",
    "        df = img_df_convert(ipth)\n",
    "        df[\"label\"] = disease\n",
    "        df_re = pd.concat([df_re,df])\n",
    "        \n",
    "    df_re.to_csv(rf\"D:\\Evolve\\Project_Plant\\Plant_Disease_Detection\\NewCsv\\{disease}_imgdf.csv\")  "
   ]
  },
  {
   "cell_type": "code",
   "execution_count": null,
   "id": "b90a4975-7412-4289-b6d1-e8310a6c6f45",
   "metadata": {},
   "outputs": [],
   "source": []
  }
 ],
 "metadata": {
  "kernelspec": {
   "display_name": "Python (venv)",
   "language": "python",
   "name": "venv"
  },
  "language_info": {
   "codemirror_mode": {
    "name": "ipython",
    "version": 3
   },
   "file_extension": ".py",
   "mimetype": "text/x-python",
   "name": "python",
   "nbconvert_exporter": "python",
   "pygments_lexer": "ipython3",
   "version": "3.11.9"
  }
 },
 "nbformat": 4,
 "nbformat_minor": 5
}
